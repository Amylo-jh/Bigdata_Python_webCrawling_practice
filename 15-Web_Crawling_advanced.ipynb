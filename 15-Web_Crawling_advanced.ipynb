{
 "cells": [
  {
   "cell_type": "code",
   "execution_count": 1,
   "metadata": {},
   "outputs": [],
   "source": [
    "import requests\n",
    "from bs4 import BeautifulSoup"
   ]
  },
  {
   "cell_type": "code",
   "execution_count": 2,
   "metadata": {},
   "outputs": [],
   "source": [
    "req = requests.get(\"http://www.kma.go.kr/weather/forecast/mid-term-rss3.jsp?stnId=131\")\n",
    "html = req.text"
   ]
  },
  {
   "cell_type": "code",
   "execution_count": 3,
   "metadata": {},
   "outputs": [
    {
     "name": "stdout",
     "output_type": "stream",
     "text": [
      "<city>청주</city>\n",
      "<city>충주</city>\n",
      "<city>영동</city>\n",
      "<city>진천</city>\n",
      "<city>음성</city>\n",
      "<city>제천</city>\n",
      "<city>단양</city>\n",
      "<city>보은</city>\n",
      "<city>괴산</city>\n",
      "<city>증평</city>\n",
      "<city>추풍령</city>\n",
      "<city>옥천</city>\n"
     ]
    },
    {
     "name": "stderr",
     "output_type": "stream",
     "text": [
      "C:\\Users\\amylo\\anaconda3\\lib\\site-packages\\bs4\\builder\\__init__.py:545: XMLParsedAsHTMLWarning: It looks like you're parsing an XML document using an HTML parser. If this really is an HTML document (maybe it's XHTML?), you can ignore or filter this warning. If it's XML, you should know that using an XML parser will be more reliable. To parse this document as XML, make sure you have the lxml package installed, and pass the keyword argument `features=\"xml\"` into the BeautifulSoup constructor.\n",
      "  warnings.warn(\n"
     ]
    }
   ],
   "source": [
    "soup = BeautifulSoup(html, 'lxml')\n",
    "for i in soup.find_all('location') :\n",
    "    print(i.find('city'))\n"
   ]
  },
  {
   "cell_type": "code",
   "execution_count": 5,
   "metadata": {},
   "outputs": [
    {
     "name": "stdout",
     "output_type": "stream",
     "text": [
      "<tmef>2023-07-21 00:00</tmef>\n",
      "<wf>맑음</wf>\n",
      "<tmn>24</tmn>\n",
      "<tmx>33</tmx>\n",
      "<tmef>2023-07-21 12:00</tmef>\n",
      "<wf>흐림</wf>\n",
      "<tmn>24</tmn>\n",
      "<tmx>33</tmx>\n",
      "<tmef>2023-07-22 00:00</tmef>\n",
      "<wf>흐림</wf>\n",
      "<tmn>24</tmn>\n",
      "<tmx>30</tmx>\n",
      "<tmef>2023-07-22 12:00</tmef>\n",
      "<wf>흐리고 비</wf>\n",
      "<tmn>24</tmn>\n",
      "<tmx>30</tmx>\n",
      "<tmef>2023-07-23 00:00</tmef>\n",
      "<wf>흐리고 비</wf>\n",
      "<tmn>25</tmn>\n",
      "<tmx>29</tmx>\n",
      "<tmef>2023-07-23 12:00</tmef>\n",
      "<wf>흐리고 비</wf>\n",
      "<tmn>25</tmn>\n",
      "<tmx>29</tmx>\n",
      "<tmef>2023-07-24 00:00</tmef>\n",
      "<wf>흐리고 비</wf>\n",
      "<tmn>25</tmn>\n",
      "<tmx>31</tmx>\n",
      "<tmef>2023-07-24 12:00</tmef>\n",
      "<wf>흐리고 비</wf>\n",
      "<tmn>25</tmn>\n",
      "<tmx>31</tmx>\n",
      "<tmef>2023-07-25 00:00</tmef>\n",
      "<wf>흐리고 비</wf>\n",
      "<tmn>25</tmn>\n",
      "<tmx>32</tmx>\n",
      "<tmef>2023-07-25 12:00</tmef>\n",
      "<wf>흐리고 비</wf>\n",
      "<tmn>25</tmn>\n",
      "<tmx>32</tmx>\n",
      "<tmef>2023-07-26 00:00</tmef>\n",
      "<wf>흐리고 비</wf>\n",
      "<tmn>25</tmn>\n",
      "<tmx>31</tmx>\n",
      "<tmef>2023-07-27 00:00</tmef>\n",
      "<wf>흐림</wf>\n",
      "<tmn>25</tmn>\n",
      "<tmx>31</tmx>\n",
      "<tmef>2023-07-28 00:00</tmef>\n",
      "<wf>흐림</wf>\n",
      "<tmn>25</tmn>\n",
      "<tmx>31</tmx>\n"
     ]
    }
   ],
   "source": [
    "cheongju = soup.find('location')\n",
    "for i in cheongju.find_all('data') :\n",
    "    print(i.find('tmef'))\n",
    "    print(i.find('wf'))\n",
    "    print(i.find('tmn'))\n",
    "    print(i.find('tmx'))\n"
   ]
  },
  {
   "cell_type": "code",
   "execution_count": 7,
   "metadata": {},
   "outputs": [],
   "source": [
    "weather = {}\n",
    "for i in soup.find_all('location') :\n",
    "    weather[i.find('city').text] = []\n",
    "    for j in i.find_all('data') :\n",
    "        temp = []\n",
    "        temp.append(j.find('tmef').text)\n",
    "        temp.append(j.find('wf').text)\n",
    "        temp.append(j.find('tmn').text)\n",
    "        temp.append(j.find('tmx').text)\n",
    "        weather[i.find('city').string].append(temp)"
   ]
  },
  {
   "cell_type": "code",
   "execution_count": 9,
   "metadata": {},
   "outputs": [
    {
     "name": "stdout",
     "output_type": "stream",
     "text": [
      "dict_keys(['청주', '충주', '영동', '진천', '음성', '제천', '단양', '보은', '괴산', '증평', '추풍령', '옥천'])\n"
     ]
    }
   ],
   "source": [
    "print(weather.keys())"
   ]
  },
  {
   "cell_type": "code",
   "execution_count": 10,
   "metadata": {},
   "outputs": [
    {
     "name": "stdout",
     "output_type": "stream",
     "text": [
      "[['2023-07-21 00:00', '맑음', '24', '33'], ['2023-07-21 12:00', '흐림', '24', '33'], ['2023-07-22 00:00', '흐림', '24', '30'], ['2023-07-22 12:00', '흐리고 비', '24', '30'], ['2023-07-23 00:00', '흐리고 비', '25', '29'], ['2023-07-23 12:00', '흐리고 비', '25', '29'], ['2023-07-24 00:00', '흐리고 비', '25', '31'], ['2023-07-24 12:00', '흐리고 비', '25', '31'], ['2023-07-25 00:00', '흐리고 비', '25', '32'], ['2023-07-25 12:00', '흐리고 비', '25', '32'], ['2023-07-26 00:00', '흐리고 비', '25', '31'], ['2023-07-27 00:00', '흐림', '25', '31'], ['2023-07-28 00:00', '흐림', '25', '31']]\n"
     ]
    }
   ],
   "source": [
    "print(weather['청주'])"
   ]
  },
  {
   "cell_type": "code",
   "execution_count": null,
   "metadata": {},
   "outputs": [],
   "source": []
  }
 ],
 "metadata": {
  "kernelspec": {
   "display_name": "Python 3 (ipykernel)",
   "language": "python",
   "name": "python3"
  },
  "language_info": {
   "codemirror_mode": {
    "name": "ipython",
    "version": 3
   },
   "file_extension": ".py",
   "mimetype": "text/x-python",
   "name": "python",
   "nbconvert_exporter": "python",
   "pygments_lexer": "ipython3",
   "version": "3.10.9"
  },
  "orig_nbformat": 4
 },
 "nbformat": 4,
 "nbformat_minor": 2
}
